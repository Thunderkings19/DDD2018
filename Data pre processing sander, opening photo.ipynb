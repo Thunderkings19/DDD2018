{
 "cells": [
  {
   "cell_type": "code",
   "execution_count": 1,
   "metadata": {},
   "outputs": [],
   "source": [
    "import pandas as pd"
   ]
  },
  {
   "cell_type": "code",
   "execution_count": 2,
   "metadata": {},
   "outputs": [
    {
     "data": {
      "text/html": [
       "<div>\n",
       "<style scoped>\n",
       "    .dataframe tbody tr th:only-of-type {\n",
       "        vertical-align: middle;\n",
       "    }\n",
       "\n",
       "    .dataframe tbody tr th {\n",
       "        vertical-align: top;\n",
       "    }\n",
       "\n",
       "    .dataframe thead th {\n",
       "        text-align: right;\n",
       "    }\n",
       "</style>\n",
       "<table border=\"1\" class=\"dataframe\">\n",
       "  <thead>\n",
       "    <tr style=\"text-align: right;\">\n",
       "      <th></th>\n",
       "      <th>0</th>\n",
       "      <th>1</th>\n",
       "      <th>2</th>\n",
       "      <th>3</th>\n",
       "      <th>4</th>\n",
       "      <th>5</th>\n",
       "    </tr>\n",
       "  </thead>\n",
       "  <tbody>\n",
       "    <tr>\n",
       "      <th>0</th>\n",
       "      <td>NaN</td>\n",
       "      <td>NaN</td>\n",
       "      <td>292</td>\n",
       "      <td>69</td>\n",
       "      <td>1558352102942</td>\n",
       "      <td>1;;;;</td>\n",
       "    </tr>\n",
       "    <tr>\n",
       "      <th>1</th>\n",
       "      <td>292.0</td>\n",
       "      <td>69.0</td>\n",
       "      <td>300</td>\n",
       "      <td>56</td>\n",
       "      <td>1558352102949</td>\n",
       "      <td>1;;;;</td>\n",
       "    </tr>\n",
       "    <tr>\n",
       "      <th>2</th>\n",
       "      <td>300.0</td>\n",
       "      <td>56.0</td>\n",
       "      <td>312</td>\n",
       "      <td>42</td>\n",
       "      <td>1558352102956</td>\n",
       "      <td>1;;;;</td>\n",
       "    </tr>\n",
       "    <tr>\n",
       "      <th>3</th>\n",
       "      <td>312.0</td>\n",
       "      <td>42.0</td>\n",
       "      <td>326</td>\n",
       "      <td>24</td>\n",
       "      <td>1558352102964</td>\n",
       "      <td>1;;;;</td>\n",
       "    </tr>\n",
       "    <tr>\n",
       "      <th>4</th>\n",
       "      <td>326.0</td>\n",
       "      <td>24.0</td>\n",
       "      <td>342</td>\n",
       "      <td>3</td>\n",
       "      <td>1558352102971</td>\n",
       "      <td>1;;;;</td>\n",
       "    </tr>\n",
       "  </tbody>\n",
       "</table>\n",
       "</div>"
      ],
      "text/plain": [
       "       0     1    2   3              4      5\n",
       "0    NaN   NaN  292  69  1558352102942  1;;;;\n",
       "1  292.0  69.0  300  56  1558352102949  1;;;;\n",
       "2  300.0  56.0  312  42  1558352102956  1;;;;\n",
       "3  312.0  42.0  326  24  1558352102964  1;;;;\n",
       "4  326.0  24.0  342   3  1558352102971  1;;;;"
      ]
     },
     "execution_count": 2,
     "metadata": {},
     "output_type": "execute_result"
    }
   ],
   "source": [
    "df = pd.read_csv('sanderfotodata_preprocessing.csv', header=None)\n",
    "df.head()"
   ]
  },
  {
   "cell_type": "code",
   "execution_count": 3,
   "metadata": {},
   "outputs": [
    {
     "data": {
      "text/html": [
       "<div>\n",
       "<style scoped>\n",
       "    .dataframe tbody tr th:only-of-type {\n",
       "        vertical-align: middle;\n",
       "    }\n",
       "\n",
       "    .dataframe tbody tr th {\n",
       "        vertical-align: top;\n",
       "    }\n",
       "\n",
       "    .dataframe thead th {\n",
       "        text-align: right;\n",
       "    }\n",
       "</style>\n",
       "<table border=\"1\" class=\"dataframe\">\n",
       "  <thead>\n",
       "    <tr style=\"text-align: right;\">\n",
       "      <th></th>\n",
       "      <th>0</th>\n",
       "      <th>1</th>\n",
       "      <th>2</th>\n",
       "      <th>3</th>\n",
       "      <th>4</th>\n",
       "      <th>5</th>\n",
       "    </tr>\n",
       "  </thead>\n",
       "  <tbody>\n",
       "    <tr>\n",
       "      <th>1</th>\n",
       "      <td>292.0</td>\n",
       "      <td>69.0</td>\n",
       "      <td>300</td>\n",
       "      <td>56</td>\n",
       "      <td>1558352102949</td>\n",
       "      <td>1;;;;</td>\n",
       "    </tr>\n",
       "    <tr>\n",
       "      <th>2</th>\n",
       "      <td>300.0</td>\n",
       "      <td>56.0</td>\n",
       "      <td>312</td>\n",
       "      <td>42</td>\n",
       "      <td>1558352102956</td>\n",
       "      <td>1;;;;</td>\n",
       "    </tr>\n",
       "    <tr>\n",
       "      <th>3</th>\n",
       "      <td>312.0</td>\n",
       "      <td>42.0</td>\n",
       "      <td>326</td>\n",
       "      <td>24</td>\n",
       "      <td>1558352102964</td>\n",
       "      <td>1;;;;</td>\n",
       "    </tr>\n",
       "    <tr>\n",
       "      <th>4</th>\n",
       "      <td>326.0</td>\n",
       "      <td>24.0</td>\n",
       "      <td>342</td>\n",
       "      <td>3</td>\n",
       "      <td>1558352102971</td>\n",
       "      <td>1;;;;</td>\n",
       "    </tr>\n",
       "    <tr>\n",
       "      <th>5</th>\n",
       "      <td>342.0</td>\n",
       "      <td>3.0</td>\n",
       "      <td>360</td>\n",
       "      <td>-19</td>\n",
       "      <td>1558352102978</td>\n",
       "      <td>1;;;;</td>\n",
       "    </tr>\n",
       "  </tbody>\n",
       "</table>\n",
       "</div>"
      ],
      "text/plain": [
       "       0     1    2   3              4      5\n",
       "1  292.0  69.0  300  56  1558352102949  1;;;;\n",
       "2  300.0  56.0  312  42  1558352102956  1;;;;\n",
       "3  312.0  42.0  326  24  1558352102964  1;;;;\n",
       "4  326.0  24.0  342   3  1558352102971  1;;;;\n",
       "5  342.0   3.0  360 -19  1558352102978  1;;;;"
      ]
     },
     "execution_count": 3,
     "metadata": {},
     "output_type": "execute_result"
    }
   ],
   "source": [
    "df = df.dropna()\n",
    "df.head()"
   ]
  },
  {
   "cell_type": "code",
   "execution_count": 4,
   "metadata": {},
   "outputs": [
    {
     "data": {
      "text/html": [
       "<div>\n",
       "<style scoped>\n",
       "    .dataframe tbody tr th:only-of-type {\n",
       "        vertical-align: middle;\n",
       "    }\n",
       "\n",
       "    .dataframe tbody tr th {\n",
       "        vertical-align: top;\n",
       "    }\n",
       "\n",
       "    .dataframe thead th {\n",
       "        text-align: right;\n",
       "    }\n",
       "</style>\n",
       "<table border=\"1\" class=\"dataframe\">\n",
       "  <thead>\n",
       "    <tr style=\"text-align: right;\">\n",
       "      <th></th>\n",
       "      <th>0</th>\n",
       "      <th>1</th>\n",
       "      <th>2</th>\n",
       "      <th>3</th>\n",
       "      <th>4</th>\n",
       "      <th>5</th>\n",
       "    </tr>\n",
       "  </thead>\n",
       "  <tbody>\n",
       "    <tr>\n",
       "      <th>41</th>\n",
       "      <td>1446.0</td>\n",
       "      <td>-21.0</td>\n",
       "      <td>1501</td>\n",
       "      <td>-17</td>\n",
       "      <td>1558352103612</td>\n",
       "      <td>1;;;;</td>\n",
       "    </tr>\n",
       "    <tr>\n",
       "      <th>42</th>\n",
       "      <td>1501.0</td>\n",
       "      <td>-17.0</td>\n",
       "      <td>1551</td>\n",
       "      <td>-14</td>\n",
       "      <td>1558352103619</td>\n",
       "      <td>1;;;;</td>\n",
       "    </tr>\n",
       "    <tr>\n",
       "      <th>43</th>\n",
       "      <td>1551.0</td>\n",
       "      <td>-14.0</td>\n",
       "      <td>1604</td>\n",
       "      <td>-9</td>\n",
       "      <td>1558352103626</td>\n",
       "      <td>1;;;;</td>\n",
       "    </tr>\n",
       "    <tr>\n",
       "      <th>44</th>\n",
       "      <td>1604.0</td>\n",
       "      <td>-9.0</td>\n",
       "      <td>1647</td>\n",
       "      <td>-6</td>\n",
       "      <td>1558352103633</td>\n",
       "      <td>1;;;;</td>\n",
       "    </tr>\n",
       "    <tr>\n",
       "      <th>45</th>\n",
       "      <td>1647.0</td>\n",
       "      <td>-6.0</td>\n",
       "      <td>1683</td>\n",
       "      <td>-6</td>\n",
       "      <td>1558352103640</td>\n",
       "      <td>1;;;;</td>\n",
       "    </tr>\n",
       "  </tbody>\n",
       "</table>\n",
       "</div>"
      ],
      "text/plain": [
       "         0     1     2   3              4      5\n",
       "41  1446.0 -21.0  1501 -17  1558352103612  1;;;;\n",
       "42  1501.0 -17.0  1551 -14  1558352103619  1;;;;\n",
       "43  1551.0 -14.0  1604  -9  1558352103626  1;;;;\n",
       "44  1604.0  -9.0  1647  -6  1558352103633  1;;;;\n",
       "45  1647.0  -6.0  1683  -6  1558352103640  1;;;;"
      ]
     },
     "execution_count": 4,
     "metadata": {},
     "output_type": "execute_result"
    }
   ],
   "source": [
    "df3 = df[(df[2] >= 1477) & (df[2] <= 1686)]\n",
    "df3.head()"
   ]
  },
  {
   "cell_type": "code",
   "execution_count": 5,
   "metadata": {},
   "outputs": [
    {
     "name": "stderr",
     "output_type": "stream",
     "text": [
      "D:\\Anaconda\\lib\\site-packages\\ipykernel_launcher.py:1: UserWarning: Boolean Series key will be reindexed to match DataFrame index.\n",
      "  \"\"\"Entry point for launching an IPython kernel.\n"
     ]
    },
    {
     "data": {
      "text/html": [
       "<div>\n",
       "<style scoped>\n",
       "    .dataframe tbody tr th:only-of-type {\n",
       "        vertical-align: middle;\n",
       "    }\n",
       "\n",
       "    .dataframe tbody tr th {\n",
       "        vertical-align: top;\n",
       "    }\n",
       "\n",
       "    .dataframe thead th {\n",
       "        text-align: right;\n",
       "    }\n",
       "</style>\n",
       "<table border=\"1\" class=\"dataframe\">\n",
       "  <thead>\n",
       "    <tr style=\"text-align: right;\">\n",
       "      <th></th>\n",
       "      <th>0</th>\n",
       "      <th>1</th>\n",
       "      <th>2</th>\n",
       "      <th>3</th>\n",
       "      <th>4</th>\n",
       "      <th>5</th>\n",
       "    </tr>\n",
       "  </thead>\n",
       "  <tbody>\n",
       "    <tr>\n",
       "      <th>389</th>\n",
       "      <td>1706.0</td>\n",
       "      <td>891.0</td>\n",
       "      <td>1671</td>\n",
       "      <td>931</td>\n",
       "      <td>1558352117711</td>\n",
       "      <td>1;;;;</td>\n",
       "    </tr>\n",
       "    <tr>\n",
       "      <th>1228</th>\n",
       "      <td>1656.0</td>\n",
       "      <td>940.0</td>\n",
       "      <td>1653</td>\n",
       "      <td>935</td>\n",
       "      <td>1558352138570</td>\n",
       "      <td>1;;;;</td>\n",
       "    </tr>\n",
       "    <tr>\n",
       "      <th>1229</th>\n",
       "      <td>1653.0</td>\n",
       "      <td>935.0</td>\n",
       "      <td>1650</td>\n",
       "      <td>932</td>\n",
       "      <td>1558352138573</td>\n",
       "      <td>1;;;;</td>\n",
       "    </tr>\n",
       "    <tr>\n",
       "      <th>1230</th>\n",
       "      <td>1650.0</td>\n",
       "      <td>932.0</td>\n",
       "      <td>1649</td>\n",
       "      <td>930</td>\n",
       "      <td>1558352138575</td>\n",
       "      <td>1;;;;</td>\n",
       "    </tr>\n",
       "    <tr>\n",
       "      <th>1231</th>\n",
       "      <td>1649.0</td>\n",
       "      <td>930.0</td>\n",
       "      <td>1647</td>\n",
       "      <td>928</td>\n",
       "      <td>1558352138580</td>\n",
       "      <td>1;;;;</td>\n",
       "    </tr>\n",
       "  </tbody>\n",
       "</table>\n",
       "</div>"
      ],
      "text/plain": [
       "           0      1     2    3              4      5\n",
       "389   1706.0  891.0  1671  931  1558352117711  1;;;;\n",
       "1228  1656.0  940.0  1653  935  1558352138570  1;;;;\n",
       "1229  1653.0  935.0  1650  932  1558352138573  1;;;;\n",
       "1230  1650.0  932.0  1649  930  1558352138575  1;;;;\n",
       "1231  1649.0  930.0  1647  928  1558352138580  1;;;;"
      ]
     },
     "execution_count": 5,
     "metadata": {},
     "output_type": "execute_result"
    }
   ],
   "source": [
    "df4 = df3[(df[3] >= 728) & (df3[3] <= 939)] \n",
    "df4.head()"
   ]
  },
  {
   "cell_type": "code",
   "execution_count": 6,
   "metadata": {},
   "outputs": [
    {
     "name": "stderr",
     "output_type": "stream",
     "text": [
      "D:\\Anaconda\\lib\\site-packages\\ipykernel_launcher.py:1: UserWarning: Boolean Series key will be reindexed to match DataFrame index.\n",
      "  \"\"\"Entry point for launching an IPython kernel.\n"
     ]
    },
    {
     "data": {
      "text/html": [
       "<div>\n",
       "<style scoped>\n",
       "    .dataframe tbody tr th:only-of-type {\n",
       "        vertical-align: middle;\n",
       "    }\n",
       "\n",
       "    .dataframe tbody tr th {\n",
       "        vertical-align: top;\n",
       "    }\n",
       "\n",
       "    .dataframe thead th {\n",
       "        text-align: right;\n",
       "    }\n",
       "</style>\n",
       "<table border=\"1\" class=\"dataframe\">\n",
       "  <thead>\n",
       "    <tr style=\"text-align: right;\">\n",
       "      <th></th>\n",
       "      <th>0</th>\n",
       "      <th>1</th>\n",
       "      <th>2</th>\n",
       "      <th>3</th>\n",
       "      <th>4</th>\n",
       "      <th>5</th>\n",
       "    </tr>\n",
       "  </thead>\n",
       "  <tbody>\n",
       "    <tr>\n",
       "      <th>4322</th>\n",
       "      <td>1669.0</td>\n",
       "      <td>775.0</td>\n",
       "      <td>1669</td>\n",
       "      <td>775</td>\n",
       "      <td>1558352210783</td>\n",
       "      <td>2;;;;</td>\n",
       "    </tr>\n",
       "    <tr>\n",
       "      <th>7119</th>\n",
       "      <td>1541.0</td>\n",
       "      <td>768.0</td>\n",
       "      <td>1541</td>\n",
       "      <td>768</td>\n",
       "      <td>1558352276571</td>\n",
       "      <td>2;;;;</td>\n",
       "    </tr>\n",
       "    <tr>\n",
       "      <th>8706</th>\n",
       "      <td>1674.0</td>\n",
       "      <td>841.0</td>\n",
       "      <td>1674</td>\n",
       "      <td>841</td>\n",
       "      <td>1558352299898</td>\n",
       "      <td>2;;;;</td>\n",
       "    </tr>\n",
       "    <tr>\n",
       "      <th>10084</th>\n",
       "      <td>1628.0</td>\n",
       "      <td>889.0</td>\n",
       "      <td>1628</td>\n",
       "      <td>889</td>\n",
       "      <td>1558352377305</td>\n",
       "      <td>2;;;;</td>\n",
       "    </tr>\n",
       "  </tbody>\n",
       "</table>\n",
       "</div>"
      ],
      "text/plain": [
       "            0      1     2    3              4      5\n",
       "4322   1669.0  775.0  1669  775  1558352210783  2;;;;\n",
       "7119   1541.0  768.0  1541  768  1558352276571  2;;;;\n",
       "8706   1674.0  841.0  1674  841  1558352299898  2;;;;\n",
       "10084  1628.0  889.0  1628  889  1558352377305  2;;;;"
      ]
     },
     "execution_count": 6,
     "metadata": {},
     "output_type": "execute_result"
    }
   ],
   "source": [
    "df5 = df4[(df[5] == '2;;;;')]\n",
    "df5"
   ]
  },
  {
   "cell_type": "code",
   "execution_count": 7,
   "metadata": {},
   "outputs": [],
   "source": [
    "#Een tijdsframe van afgerond 1 seconde / 1000 milliseconde\n",
    "opening1 = df.iloc[4233:4322]\n",
    "opening2 = df.iloc[7029:7119]\n",
    "opening3 = df.iloc[8615:8706]\n",
    "opening4 = df.iloc[9993:10084]"
   ]
  },
  {
   "cell_type": "code",
   "execution_count": 8,
   "metadata": {},
   "outputs": [
    {
     "data": {
      "text/plain": [
       "11.224719101123595"
      ]
     },
     "execution_count": 8,
     "metadata": {},
     "output_type": "execute_result"
    }
   ],
   "source": [
    "average_difference1 = (opening1[4][4322] - opening1[4][4234])/ 89\n",
    "average_difference1"
   ]
  },
  {
   "cell_type": "code",
   "execution_count": 9,
   "metadata": {},
   "outputs": [
    {
     "data": {
      "text/plain": [
       "11.077777777777778"
      ]
     },
     "execution_count": 9,
     "metadata": {},
     "output_type": "execute_result"
    }
   ],
   "source": [
    "average_difference2 = (opening2[4][7119] - opening2[4][7030])/ 90\n",
    "average_difference2"
   ]
  },
  {
   "cell_type": "code",
   "execution_count": 10,
   "metadata": {},
   "outputs": [
    {
     "data": {
      "text/plain": [
       "10.989010989010989"
      ]
     },
     "execution_count": 10,
     "metadata": {},
     "output_type": "execute_result"
    }
   ],
   "source": [
    "average_difference3 = (opening3[4][8706] - opening3[4][8616])/ 91\n",
    "average_difference3"
   ]
  },
  {
   "cell_type": "code",
   "execution_count": 11,
   "metadata": {},
   "outputs": [
    {
     "data": {
      "text/plain": [
       "10.989010989010989"
      ]
     },
     "execution_count": 11,
     "metadata": {},
     "output_type": "execute_result"
    }
   ],
   "source": [
    "average_difference4 = (opening4[4][10084] - opening4[4][9994])/ 91\n",
    "average_difference4 "
   ]
  },
  {
   "cell_type": "code",
   "execution_count": 12,
   "metadata": {},
   "outputs": [
    {
     "data": {
      "text/plain": [
       "0.29545454545454547"
      ]
     },
     "execution_count": 12,
     "metadata": {},
     "output_type": "execute_result"
    }
   ],
   "source": [
    "average_difference_x1 = abs(opening1[0].diff().mean())\n",
    "average_difference_x1"
   ]
  },
  {
   "cell_type": "code",
   "execution_count": 13,
   "metadata": {},
   "outputs": [
    {
     "data": {
      "text/plain": [
       "0.14606741573033707"
      ]
     },
     "execution_count": 13,
     "metadata": {},
     "output_type": "execute_result"
    }
   ],
   "source": [
    "average_difference_x2 = abs(opening2[0].diff().mean())\n",
    "average_difference_x2"
   ]
  },
  {
   "cell_type": "code",
   "execution_count": 14,
   "metadata": {},
   "outputs": [
    {
     "data": {
      "text/plain": [
       "0.011111111111111112"
      ]
     },
     "execution_count": 14,
     "metadata": {},
     "output_type": "execute_result"
    }
   ],
   "source": [
    "average_difference_x3 = abs(opening3[0].diff().mean())\n",
    "average_difference_x3"
   ]
  },
  {
   "cell_type": "code",
   "execution_count": 15,
   "metadata": {},
   "outputs": [
    {
     "data": {
      "text/plain": [
       "0.8444444444444444"
      ]
     },
     "execution_count": 15,
     "metadata": {},
     "output_type": "execute_result"
    }
   ],
   "source": [
    "average_difference_x4 = abs(opening4[0].diff().mean())\n",
    "average_difference_x4"
   ]
  },
  {
   "cell_type": "code",
   "execution_count": 16,
   "metadata": {},
   "outputs": [
    {
     "data": {
      "text/plain": [
       "0.6704545454545454"
      ]
     },
     "execution_count": 16,
     "metadata": {},
     "output_type": "execute_result"
    }
   ],
   "source": [
    "average_difference_y1 = abs(opening1[1].diff().mean())\n",
    "average_difference_y1"
   ]
  },
  {
   "cell_type": "code",
   "execution_count": 17,
   "metadata": {},
   "outputs": [
    {
     "data": {
      "text/plain": [
       "1.7303370786516854"
      ]
     },
     "execution_count": 17,
     "metadata": {},
     "output_type": "execute_result"
    }
   ],
   "source": [
    "average_difference_y2 = abs(opening2[1].diff().mean())\n",
    "average_difference_y2"
   ]
  },
  {
   "cell_type": "code",
   "execution_count": 18,
   "metadata": {},
   "outputs": [
    {
     "data": {
      "text/plain": [
       "0.34444444444444444"
      ]
     },
     "execution_count": 18,
     "metadata": {},
     "output_type": "execute_result"
    }
   ],
   "source": [
    "average_difference_y3 = abs(opening3[1].diff().mean())\n",
    "average_difference_y3"
   ]
  },
  {
   "cell_type": "code",
   "execution_count": 19,
   "metadata": {},
   "outputs": [
    {
     "data": {
      "text/plain": [
       "0.35555555555555557"
      ]
     },
     "execution_count": 19,
     "metadata": {},
     "output_type": "execute_result"
    }
   ],
   "source": [
    "average_difference_y4 = abs(opening4[1].diff().mean())\n",
    "average_difference_y4"
   ]
  },
  {
   "cell_type": "code",
   "execution_count": 20,
   "metadata": {},
   "outputs": [
    {
     "data": {
      "text/plain": [
       "0.7751979060265577"
      ]
     },
     "execution_count": 20,
     "metadata": {},
     "output_type": "execute_result"
    }
   ],
   "source": [
    "average_y = (average_difference_y1 + average_difference_y2 + average_difference_y3 + average_difference_y4)/4\n",
    "average_y"
   ]
  },
  {
   "cell_type": "code",
   "execution_count": 21,
   "metadata": {},
   "outputs": [
    {
     "data": {
      "text/plain": [
       "0.3242693791851095"
      ]
     },
     "execution_count": 21,
     "metadata": {},
     "output_type": "execute_result"
    }
   ],
   "source": [
    "average_x = (average_difference_x1 + average_difference_x2 + average_difference_x3 + average_difference_x4)/4\n",
    "average_x"
   ]
  },
  {
   "cell_type": "code",
   "execution_count": 22,
   "metadata": {},
   "outputs": [
    {
     "data": {
      "text/plain": [
       "11.070129714230838"
      ]
     },
     "execution_count": 22,
     "metadata": {},
     "output_type": "execute_result"
    }
   ],
   "source": [
    "average_difference = (average_difference1 + average_difference2 + average_difference3 + average_difference4)/4\n",
    "average_difference"
   ]
  },
  {
   "cell_type": "code",
   "execution_count": 23,
   "metadata": {},
   "outputs": [
    {
     "data": {
      "text/plain": [
       " 0.0    23\n",
       "-1.0    21\n",
       "-2.0    12\n",
       " 2.0     8\n",
       " 1.0     8\n",
       "-4.0     5\n",
       "-3.0     4\n",
       " 3.0     3\n",
       " 5.0     2\n",
       " 4.0     2\n",
       "Name: 0, dtype: int64"
      ]
     },
     "execution_count": 23,
     "metadata": {},
     "output_type": "execute_result"
    }
   ],
   "source": [
    "opening1[0].diff().value_counts()"
   ]
  },
  {
   "cell_type": "code",
   "execution_count": 24,
   "metadata": {},
   "outputs": [
    {
     "data": {
      "text/plain": [
       "-1.0    38\n",
       " 0.0    29\n",
       "-2.0    10\n",
       " 1.0     8\n",
       "-3.0     3\n",
       "Name: 1, dtype: int64"
      ]
     },
     "execution_count": 24,
     "metadata": {},
     "output_type": "execute_result"
    }
   ],
   "source": [
    "opening1[1].diff().value_counts()"
   ]
  },
  {
   "cell_type": "code",
   "execution_count": 25,
   "metadata": {},
   "outputs": [
    {
     "data": {
      "text/plain": [
       "-4.0     11\n",
       "-3.0      7\n",
       " 2.0      6\n",
       "-1.0      5\n",
       "-5.0      5\n",
       "-9.0      5\n",
       "-6.0      5\n",
       " 4.0      5\n",
       " 6.0      4\n",
       " 3.0      4\n",
       " 0.0      4\n",
       "-10.0     3\n",
       "-7.0      3\n",
       " 7.0      3\n",
       " 5.0      3\n",
       " 1.0      2\n",
       "-12.0     2\n",
       "-14.0     2\n",
       "-8.0      2\n",
       " 9.0      2\n",
       " 11.0     1\n",
       "-2.0      1\n",
       "-13.0     1\n",
       " 12.0     1\n",
       " 14.0     1\n",
       "-11.0     1\n",
       "Name: 1, dtype: int64"
      ]
     },
     "execution_count": 25,
     "metadata": {},
     "output_type": "execute_result"
    }
   ],
   "source": [
    "opening2[1].diff().value_counts()"
   ]
  },
  {
   "cell_type": "code",
   "execution_count": 26,
   "metadata": {},
   "outputs": [
    {
     "data": {
      "text/plain": [
       " 1.0     16\n",
       " 0.0     13\n",
       " 2.0      7\n",
       " 4.0      7\n",
       "-4.0      7\n",
       "-3.0      6\n",
       "-2.0      5\n",
       " 3.0      5\n",
       "-5.0      4\n",
       "-1.0      4\n",
       " 5.0      3\n",
       " 6.0      3\n",
       " 7.0      3\n",
       "-6.0      1\n",
       "-10.0     1\n",
       " 8.0      1\n",
       "-8.0      1\n",
       "-11.0     1\n",
       "-7.0      1\n",
       "Name: 0, dtype: int64"
      ]
     },
     "execution_count": 26,
     "metadata": {},
     "output_type": "execute_result"
    }
   ],
   "source": [
    "opening2[0].diff().value_counts()"
   ]
  },
  {
   "cell_type": "code",
   "execution_count": 27,
   "metadata": {},
   "outputs": [
    {
     "data": {
      "text/plain": [
       " 0.0    38\n",
       "-1.0    24\n",
       " 1.0    16\n",
       "-2.0     8\n",
       "-3.0     3\n",
       " 2.0     1\n",
       "Name: 1, dtype: int64"
      ]
     },
     "execution_count": 27,
     "metadata": {},
     "output_type": "execute_result"
    }
   ],
   "source": [
    "opening3[1].diff().value_counts()"
   ]
  },
  {
   "cell_type": "code",
   "execution_count": 28,
   "metadata": {},
   "outputs": [
    {
     "data": {
      "text/plain": [
       "-1.0    25\n",
       " 0.0    23\n",
       "-2.0    15\n",
       " 1.0    11\n",
       " 3.0     7\n",
       " 2.0     7\n",
       " 4.0     2\n",
       "Name: 0, dtype: int64"
      ]
     },
     "execution_count": 28,
     "metadata": {},
     "output_type": "execute_result"
    }
   ],
   "source": [
    "opening3[0].diff().value_counts()"
   ]
  },
  {
   "cell_type": "code",
   "execution_count": 29,
   "metadata": {},
   "outputs": [
    {
     "data": {
      "text/plain": [
       " 3.0     9\n",
       " 7.0     6\n",
       " 4.0     6\n",
       "-9.0     6\n",
       " 5.0     5\n",
       " 8.0     5\n",
       " 2.0     5\n",
       "-10.0    5\n",
       " 1.0     4\n",
       " 10.0    4\n",
       " 6.0     4\n",
       "-1.0     3\n",
       "-4.0     3\n",
       "-6.0     3\n",
       "-7.0     3\n",
       "-5.0     3\n",
       "-2.0     2\n",
       " 9.0     2\n",
       "-12.0    2\n",
       " 12.0    2\n",
       " 0.0     2\n",
       "-8.0     2\n",
       "-11.0    1\n",
       " 14.0    1\n",
       " 15.0    1\n",
       "-3.0     1\n",
       "Name: 0, dtype: int64"
      ]
     },
     "execution_count": 29,
     "metadata": {},
     "output_type": "execute_result"
    }
   ],
   "source": [
    "opening4[0].diff().value_counts()"
   ]
  },
  {
   "cell_type": "code",
   "execution_count": 30,
   "metadata": {},
   "outputs": [
    {
     "data": {
      "text/plain": [
       " 1.0     13\n",
       " 0.0     13\n",
       " 3.0     10\n",
       "-3.0      9\n",
       "-2.0      8\n",
       " 2.0      7\n",
       "-1.0      6\n",
       " 4.0      3\n",
       " 6.0      3\n",
       "-4.0      3\n",
       " 5.0      3\n",
       " 8.0      2\n",
       "-6.0      2\n",
       "-8.0      2\n",
       " 10.0     2\n",
       "-5.0      1\n",
       "-10.0     1\n",
       " 7.0      1\n",
       "-9.0      1\n",
       "Name: 1, dtype: int64"
      ]
     },
     "execution_count": 30,
     "metadata": {},
     "output_type": "execute_result"
    }
   ],
   "source": [
    "opening4[1].diff().value_counts()"
   ]
  },
  {
   "cell_type": "code",
   "execution_count": 31,
   "metadata": {},
   "outputs": [
    {
     "data": {
      "text/plain": [
       "11.0    45\n",
       "12.0    20\n",
       "10.0    14\n",
       "1.0      2\n",
       "13.0     2\n",
       "33.0     1\n",
       "6.0      1\n",
       "2.0      1\n",
       "35.0     1\n",
       "20.0     1\n",
       "Name: 4, dtype: int64"
      ]
     },
     "execution_count": 31,
     "metadata": {},
     "output_type": "execute_result"
    }
   ],
   "source": [
    "opening1[4].diff().value_counts()"
   ]
  },
  {
   "cell_type": "code",
   "execution_count": 32,
   "metadata": {},
   "outputs": [
    {
     "data": {
      "text/plain": [
       "11.0    31\n",
       "12.0    24\n",
       "10.0    20\n",
       "13.0     5\n",
       "9.0      4\n",
       "21.0     1\n",
       "1.0      1\n",
       "4.0      1\n",
       "2.0      1\n",
       "39.0     1\n",
       "Name: 4, dtype: int64"
      ]
     },
     "execution_count": 32,
     "metadata": {},
     "output_type": "execute_result"
    }
   ],
   "source": [
    "opening2[4].diff().value_counts()"
   ]
  },
  {
   "cell_type": "code",
   "execution_count": 33,
   "metadata": {},
   "outputs": [
    {
     "data": {
      "text/plain": [
       "11.0    42\n",
       "12.0    26\n",
       "10.0    16\n",
       "2.0      2\n",
       "13.0     1\n",
       "4.0      1\n",
       "36.0     1\n",
       "9.0      1\n",
       "Name: 4, dtype: int64"
      ]
     },
     "execution_count": 33,
     "metadata": {},
     "output_type": "execute_result"
    }
   ],
   "source": [
    "opening3[4].diff().value_counts()"
   ]
  },
  {
   "cell_type": "code",
   "execution_count": 34,
   "metadata": {},
   "outputs": [
    {
     "data": {
      "text/plain": [
       "11.0    36\n",
       "12.0    22\n",
       "10.0    20\n",
       "13.0     6\n",
       "9.0      2\n",
       "5.0      1\n",
       "3.0      1\n",
       "2.0      1\n",
       "34.0     1\n",
       "Name: 4, dtype: int64"
      ]
     },
     "execution_count": 34,
     "metadata": {},
     "output_type": "execute_result"
    }
   ],
   "source": [
    "opening4[4].diff().value_counts()"
   ]
  },
  {
   "cell_type": "code",
   "execution_count": null,
   "metadata": {},
   "outputs": [],
   "source": []
  }
 ],
 "metadata": {
  "kernelspec": {
   "display_name": "Python 3",
   "language": "python",
   "name": "python3"
  },
  "language_info": {
   "codemirror_mode": {
    "name": "ipython",
    "version": 3
   },
   "file_extension": ".py",
   "mimetype": "text/x-python",
   "name": "python",
   "nbconvert_exporter": "python",
   "pygments_lexer": "ipython3",
   "version": "3.6.5"
  }
 },
 "nbformat": 4,
 "nbformat_minor": 2
}
