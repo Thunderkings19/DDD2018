{
 "cells": [
  {
   "cell_type": "code",
   "execution_count": 6,
   "metadata": {},
   "outputs": [
    {
     "name": "stdout",
     "output_type": "stream",
     "text": [
      "6\n",
      "You ate 960 calories.\n",
      "You ate 9.0 grams of fat.\n",
      "You ate 222 grams of carbs.\n",
      "You ate 180 grams of sugar.\n",
      "You ate 6 portions of skittles of 61.5 gram each.\n"
     ]
    }
   ],
   "source": [
    "Cal = 160\n",
    "Fat = 1.5\n",
    "Carb = 37\n",
    "Sugar = 30\n",
    "\n",
    "portions = input(\"How many portions do you eat?\")\n",
    "print(portions)\n",
    "portions = int(portions)\n",
    "\n",
    "cal_value = (Cal * portions)\n",
    "fat_value = (Fat * portions)\n",
    "carb_value = (Carb * portions)\n",
    "sugar_value = (Sugar * portions)\n",
    "cal_value = str(cal_value)\n",
    "fat_value = str(fat_value)\n",
    "carb_value = str(carb_value)\n",
    "sugar_value = str(sugar_value)\n",
    "portions = str(portions)\n",
    "\n",
    "print('You ate ' + cal_value + ' calories.')\n",
    "print('You ate ' + fat_value + ' grams of fat.')\n",
    "print('You ate ' + carb_value + ' grams of carbs.')\n",
    "print('You ate ' + sugar_value + ' grams of sugar.')\n",
    "\n",
    "print('You ate ' + portions + ' portions of skittles of 61.5 gram each.')\n"
   ]
  },
  {
   "cell_type": "code",
   "execution_count": null,
   "metadata": {},
   "outputs": [],
   "source": []
  }
 ],
 "metadata": {
  "kernelspec": {
   "display_name": "Python 3",
   "language": "python",
   "name": "python3"
  },
  "language_info": {
   "codemirror_mode": {
    "name": "ipython",
    "version": 3
   },
   "file_extension": ".py",
   "mimetype": "text/x-python",
   "name": "python",
   "nbconvert_exporter": "python",
   "pygments_lexer": "ipython3",
   "version": "3.6.5"
  }
 },
 "nbformat": 4,
 "nbformat_minor": 2
}
